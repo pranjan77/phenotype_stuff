{
 "cells": [
  {
   "cell_type": "code",
   "execution_count": 1,
   "id": "000d8a27-e4ad-4e47-bf7d-fd959440f9d6",
   "metadata": {},
   "outputs": [
    {
     "name": "stdout",
     "output_type": "stream",
     "text": [
      "Requirement already satisfied: mljar-supervised in /Users/4pz/opt/anaconda3/lib/python3.8/site-packages (1.0.2)\n",
      "Requirement already satisfied: lightgbm>=3.0.0 in /Users/4pz/opt/anaconda3/lib/python3.8/site-packages (from mljar-supervised) (4.0.0)\n",
      "Requirement already satisfied: category-encoders>=2.2.2 in /Users/4pz/opt/anaconda3/lib/python3.8/site-packages (from mljar-supervised) (2.6.1)\n",
      "Requirement already satisfied: optuna>=2.7.0 in /Users/4pz/opt/anaconda3/lib/python3.8/site-packages (from mljar-supervised) (3.2.0)\n",
      "Requirement already satisfied: catboost>=0.24.4 in /Users/4pz/opt/anaconda3/lib/python3.8/site-packages (from mljar-supervised) (1.1.1)\n",
      "Requirement already satisfied: scipy>=1.6.1 in /Users/4pz/opt/anaconda3/lib/python3.8/site-packages (from mljar-supervised) (1.7.2)\n",
      "Requirement already satisfied: numpy>=1.19.5 in /Users/4pz/opt/anaconda3/lib/python3.8/site-packages (from mljar-supervised) (1.21.2)\n",
      "Requirement already satisfied: xgboost>=1.3.3 in /Users/4pz/opt/anaconda3/lib/python3.8/site-packages (from mljar-supervised) (1.7.5)\n",
      "Requirement already satisfied: shap>=0.36.0 in /Users/4pz/opt/anaconda3/lib/python3.8/site-packages (from mljar-supervised) (0.42.1)\n",
      "Requirement already satisfied: scikit-plot==0.3.7 in /Users/4pz/opt/anaconda3/lib/python3.8/site-packages (from mljar-supervised) (0.3.7)\n",
      "Requirement already satisfied: scikit-learn>=1.0 in /Users/4pz/opt/anaconda3/lib/python3.8/site-packages (from mljar-supervised) (1.0.2)\n",
      "Requirement already satisfied: dtreeviz>=2.0.0 in /Users/4pz/opt/anaconda3/lib/python3.8/site-packages (from mljar-supervised) (2.2.2)\n",
      "Requirement already satisfied: joblib>=1.0.1 in /Users/4pz/opt/anaconda3/lib/python3.8/site-packages (from mljar-supervised) (1.1.0)\n",
      "Requirement already satisfied: wordcloud>=1.8.1 in /Users/4pz/opt/anaconda3/lib/python3.8/site-packages (from mljar-supervised) (1.9.2)\n",
      "Requirement already satisfied: seaborn>=0.11.1 in /Users/4pz/opt/anaconda3/lib/python3.8/site-packages (from mljar-supervised) (0.11.2)\n",
      "Requirement already satisfied: matplotlib>=3.2.2 in /Users/4pz/opt/anaconda3/lib/python3.8/site-packages (from mljar-supervised) (3.4.3)\n",
      "Requirement already satisfied: ipython in /Users/4pz/opt/anaconda3/lib/python3.8/site-packages (from mljar-supervised) (7.29.0)\n",
      "Requirement already satisfied: typing-extensions in /Users/4pz/opt/anaconda3/lib/python3.8/site-packages (from mljar-supervised) (4.7.1)\n",
      "Requirement already satisfied: pandas>=1.2.0 in /Users/4pz/opt/anaconda3/lib/python3.8/site-packages (from mljar-supervised) (1.3.4)\n",
      "Requirement already satisfied: markdown in /Users/4pz/opt/anaconda3/lib/python3.8/site-packages (from mljar-supervised) (3.4.4)\n",
      "Requirement already satisfied: tabulate>=0.8.7 in /Users/4pz/opt/anaconda3/lib/python3.8/site-packages (from mljar-supervised) (0.8.10)\n",
      "Requirement already satisfied: plotly in /Users/4pz/opt/anaconda3/lib/python3.8/site-packages (from catboost>=0.24.4->mljar-supervised) (5.15.0)\n",
      "Requirement already satisfied: graphviz in /Users/4pz/opt/anaconda3/lib/python3.8/site-packages (from catboost>=0.24.4->mljar-supervised) (0.20.1)\n",
      "Requirement already satisfied: six in /Users/4pz/opt/anaconda3/lib/python3.8/site-packages (from catboost>=0.24.4->mljar-supervised) (1.16.0)\n",
      "Requirement already satisfied: patsy>=0.5.1 in /Users/4pz/opt/anaconda3/lib/python3.8/site-packages (from category-encoders>=2.2.2->mljar-supervised) (0.5.2)\n",
      "Requirement already satisfied: statsmodels>=0.9.0 in /Users/4pz/opt/anaconda3/lib/python3.8/site-packages (from category-encoders>=2.2.2->mljar-supervised) (0.13.0)\n",
      "Requirement already satisfied: colour in /Users/4pz/opt/anaconda3/lib/python3.8/site-packages (from dtreeviz>=2.0.0->mljar-supervised) (0.1.5)\n",
      "Requirement already satisfied: pytest in /Users/4pz/opt/anaconda3/lib/python3.8/site-packages (from dtreeviz>=2.0.0->mljar-supervised) (6.2.4)\n",
      "Requirement already satisfied: pyparsing>=2.2.1 in /Users/4pz/opt/anaconda3/lib/python3.8/site-packages (from matplotlib>=3.2.2->mljar-supervised) (3.0.4)\n",
      "Requirement already satisfied: cycler>=0.10 in /Users/4pz/opt/anaconda3/lib/python3.8/site-packages (from matplotlib>=3.2.2->mljar-supervised) (0.10.0)\n",
      "Requirement already satisfied: python-dateutil>=2.7 in /Users/4pz/opt/anaconda3/lib/python3.8/site-packages (from matplotlib>=3.2.2->mljar-supervised) (2.8.2)\n",
      "Requirement already satisfied: pillow>=6.2.0 in /Users/4pz/opt/anaconda3/lib/python3.8/site-packages (from matplotlib>=3.2.2->mljar-supervised) (8.4.0)\n",
      "Requirement already satisfied: kiwisolver>=1.0.1 in /Users/4pz/opt/anaconda3/lib/python3.8/site-packages (from matplotlib>=3.2.2->mljar-supervised) (1.3.1)\n",
      "Requirement already satisfied: colorlog in /Users/4pz/opt/anaconda3/lib/python3.8/site-packages (from optuna>=2.7.0->mljar-supervised) (6.7.0)\n",
      "Requirement already satisfied: packaging>=20.0 in /Users/4pz/opt/anaconda3/lib/python3.8/site-packages (from optuna>=2.7.0->mljar-supervised) (21.0)\n",
      "Requirement already satisfied: alembic>=1.5.0 in /Users/4pz/opt/anaconda3/lib/python3.8/site-packages (from optuna>=2.7.0->mljar-supervised) (1.11.1)\n",
      "Requirement already satisfied: tqdm in /Users/4pz/opt/anaconda3/lib/python3.8/site-packages (from optuna>=2.7.0->mljar-supervised) (4.62.3)\n",
      "Requirement already satisfied: sqlalchemy>=1.3.0 in /Users/4pz/opt/anaconda3/lib/python3.8/site-packages (from optuna>=2.7.0->mljar-supervised) (1.4.22)\n",
      "Requirement already satisfied: PyYAML in /Users/4pz/opt/anaconda3/lib/python3.8/site-packages (from optuna>=2.7.0->mljar-supervised) (6.0)\n",
      "Requirement already satisfied: cmaes>=0.9.1 in /Users/4pz/opt/anaconda3/lib/python3.8/site-packages (from optuna>=2.7.0->mljar-supervised) (0.10.0)\n",
      "Requirement already satisfied: importlib-metadata in /Users/4pz/opt/anaconda3/lib/python3.8/site-packages (from alembic>=1.5.0->optuna>=2.7.0->mljar-supervised) (4.8.1)\n",
      "Requirement already satisfied: Mako in /Users/4pz/opt/anaconda3/lib/python3.8/site-packages (from alembic>=1.5.0->optuna>=2.7.0->mljar-supervised) (1.2.4)\n",
      "Requirement already satisfied: importlib-resources in /Users/4pz/opt/anaconda3/lib/python3.8/site-packages (from alembic>=1.5.0->optuna>=2.7.0->mljar-supervised) (5.3.0)\n",
      "Requirement already satisfied: pytz>=2017.3 in /Users/4pz/opt/anaconda3/lib/python3.8/site-packages (from pandas>=1.2.0->mljar-supervised) (2021.3)\n",
      "Requirement already satisfied: threadpoolctl>=2.0.0 in /Users/4pz/opt/anaconda3/lib/python3.8/site-packages (from scikit-learn>=1.0->mljar-supervised) (2.2.0)\n",
      "Requirement already satisfied: cloudpickle in /Users/4pz/opt/anaconda3/lib/python3.8/site-packages (from shap>=0.36.0->mljar-supervised) (2.0.0)\n",
      "Requirement already satisfied: slicer==0.0.7 in /Users/4pz/opt/anaconda3/lib/python3.8/site-packages (from shap>=0.36.0->mljar-supervised) (0.0.7)\n",
      "Requirement already satisfied: numba in /Users/4pz/opt/anaconda3/lib/python3.8/site-packages (from shap>=0.36.0->mljar-supervised) (0.53.1)\n",
      "Requirement already satisfied: greenlet!=0.4.17 in /Users/4pz/opt/anaconda3/lib/python3.8/site-packages (from sqlalchemy>=1.3.0->optuna>=2.7.0->mljar-supervised) (1.1.1)\n",
      "Requirement already satisfied: zipp>=0.5 in /Users/4pz/opt/anaconda3/lib/python3.8/site-packages (from importlib-metadata->alembic>=1.5.0->optuna>=2.7.0->mljar-supervised) (3.6.0)\n",
      "Requirement already satisfied: decorator in /Users/4pz/opt/anaconda3/lib/python3.8/site-packages (from ipython->mljar-supervised) (5.1.0)\n",
      "Requirement already satisfied: setuptools>=18.5 in /Users/4pz/opt/anaconda3/lib/python3.8/site-packages (from ipython->mljar-supervised) (58.0.4)\n",
      "Requirement already satisfied: traitlets>=4.2 in /Users/4pz/opt/anaconda3/lib/python3.8/site-packages (from ipython->mljar-supervised) (5.1.0)\n",
      "Requirement already satisfied: matplotlib-inline in /Users/4pz/opt/anaconda3/lib/python3.8/site-packages (from ipython->mljar-supervised) (0.1.2)\n",
      "Requirement already satisfied: jedi>=0.16 in /Users/4pz/opt/anaconda3/lib/python3.8/site-packages (from ipython->mljar-supervised) (0.17.2)\n",
      "Requirement already satisfied: pickleshare in /Users/4pz/opt/anaconda3/lib/python3.8/site-packages (from ipython->mljar-supervised) (0.7.5)\n",
      "Requirement already satisfied: pygments in /Users/4pz/opt/anaconda3/lib/python3.8/site-packages (from ipython->mljar-supervised) (2.10.0)\n",
      "Requirement already satisfied: pexpect>4.3 in /Users/4pz/opt/anaconda3/lib/python3.8/site-packages (from ipython->mljar-supervised) (4.8.0)\n",
      "Requirement already satisfied: appnope in /Users/4pz/opt/anaconda3/lib/python3.8/site-packages (from ipython->mljar-supervised) (0.1.2)\n",
      "Requirement already satisfied: backcall in /Users/4pz/opt/anaconda3/lib/python3.8/site-packages (from ipython->mljar-supervised) (0.2.0)\n",
      "Requirement already satisfied: prompt-toolkit!=3.0.0,!=3.0.1,<3.1.0,>=2.0.0 in /Users/4pz/opt/anaconda3/lib/python3.8/site-packages (from ipython->mljar-supervised) (3.0.20)\n",
      "Requirement already satisfied: parso<0.8.0,>=0.7.0 in /Users/4pz/opt/anaconda3/lib/python3.8/site-packages (from jedi>=0.16->ipython->mljar-supervised) (0.7.0)\n",
      "Requirement already satisfied: ptyprocess>=0.5 in /Users/4pz/opt/anaconda3/lib/python3.8/site-packages (from pexpect>4.3->ipython->mljar-supervised) (0.7.0)\n",
      "Requirement already satisfied: wcwidth in /Users/4pz/opt/anaconda3/lib/python3.8/site-packages (from prompt-toolkit!=3.0.0,!=3.0.1,<3.1.0,>=2.0.0->ipython->mljar-supervised) (0.2.5)\n",
      "Requirement already satisfied: MarkupSafe>=0.9.2 in /Users/4pz/opt/anaconda3/lib/python3.8/site-packages (from Mako->alembic>=1.5.0->optuna>=2.7.0->mljar-supervised) (1.1.1)\n",
      "Requirement already satisfied: llvmlite<0.37,>=0.36.0rc1 in /Users/4pz/opt/anaconda3/lib/python3.8/site-packages (from numba->shap>=0.36.0->mljar-supervised) (0.36.0)\n",
      "Requirement already satisfied: tenacity>=6.2.0 in /Users/4pz/opt/anaconda3/lib/python3.8/site-packages (from plotly->catboost>=0.24.4->mljar-supervised) (8.2.2)\n",
      "Requirement already satisfied: attrs>=19.2.0 in /Users/4pz/opt/anaconda3/lib/python3.8/site-packages (from pytest->dtreeviz>=2.0.0->mljar-supervised) (21.2.0)\n",
      "Requirement already satisfied: iniconfig in /Users/4pz/opt/anaconda3/lib/python3.8/site-packages (from pytest->dtreeviz>=2.0.0->mljar-supervised) (1.1.1)\n",
      "Requirement already satisfied: pluggy<1.0.0a1,>=0.12 in /Users/4pz/opt/anaconda3/lib/python3.8/site-packages (from pytest->dtreeviz>=2.0.0->mljar-supervised) (0.13.1)\n",
      "Requirement already satisfied: py>=1.8.2 in /Users/4pz/opt/anaconda3/lib/python3.8/site-packages (from pytest->dtreeviz>=2.0.0->mljar-supervised) (1.10.0)\n",
      "Requirement already satisfied: toml in /Users/4pz/opt/anaconda3/lib/python3.8/site-packages (from pytest->dtreeviz>=2.0.0->mljar-supervised) (0.10.2)\n"
     ]
    }
   ],
   "source": [
    "!pip install mljar-supervised\n",
    "\n",
    "\n"
   ]
  },
  {
   "cell_type": "code",
   "execution_count": 2,
   "id": "9cfa247d-e27a-40b7-9071-d5a4df48e29b",
   "metadata": {},
   "outputs": [
    {
     "name": "stderr",
     "output_type": "stream",
     "text": [
      "Using `tqdm.autonotebook.tqdm` in notebook mode. Use `tqdm.tqdm` instead to force console mode (e.g. in jupyter console)\n"
     ]
    },
    {
     "name": "stdout",
     "output_type": "stream",
     "text": [
      "Phenotype: gram_stain\n",
      "Feature used: Rast\n",
      "Numer of genomes:3531\n",
      "Number of genomic features :6997\n",
      "Shape of y:(3531,)\n",
      "Linear algorithm was disabled.\n",
      "AutoML directory: AutoML_1\n",
      "The task is binary_classification with evaluation metric logloss\n",
      "AutoML will use algorithms: ['Baseline', 'Decision Tree', 'Random Forest', 'Xgboost', 'Neural Network']\n",
      "AutoML will ensemble available models\n",
      "AutoML steps: ['simple_algorithms', 'default_algorithms', 'ensemble']\n",
      "* Step simple_algorithms will try to check up to 2 models\n",
      "1_Baseline logloss 0.651075 trained in 6.26 seconds\n"
     ]
    },
    {
     "name": "stderr",
     "output_type": "stream",
     "text": [
      "/Users/4pz/opt/anaconda3/lib/python3.8/site-packages/supervised/utils/shap.py:38: UserWarning: Disable SHAP explanations because of number of columns > 500.\n"
     ]
    },
    {
     "name": "stdout",
     "output_type": "stream",
     "text": [
      "2_DecisionTree logloss 0.159718 trained in 255.02 seconds\n",
      "* Step default_algorithms will try to check up to 3 models\n"
     ]
    },
    {
     "name": "stderr",
     "output_type": "stream",
     "text": [
      "/Users/4pz/opt/anaconda3/lib/python3.8/site-packages/supervised/utils/shap.py:38: UserWarning: Disable SHAP explanations because of number of columns > 500.\n"
     ]
    },
    {
     "name": "stdout",
     "output_type": "stream",
     "text": [
      "3_Default_Xgboost logloss 0.114426 trained in 218.87 seconds\n",
      "4_Default_NeuralNetwork logloss 0.141835 trained in 255.14 seconds\n"
     ]
    },
    {
     "name": "stderr",
     "output_type": "stream",
     "text": [
      "/Users/4pz/opt/anaconda3/lib/python3.8/site-packages/supervised/utils/shap.py:38: UserWarning: Disable SHAP explanations because of number of columns > 500.\n"
     ]
    },
    {
     "name": "stdout",
     "output_type": "stream",
     "text": [
      "5_Default_RandomForest logloss 0.120757 trained in 210.64 seconds\n",
      "* Step ensemble will try to check up to 1 model\n",
      "Ensemble logloss 0.110586 trained in 0.88 seconds\n",
      "AutoML fit time: 978.53 seconds\n",
      "AutoML best model: Ensemble\n"
     ]
    }
   ],
   "source": [
    "\n",
    "\n",
    "import pandas as pd\n",
    "from sklearn.model_selection import train_test_split\n",
    "from supervised.automl import AutoML\n",
    "\n",
    "\n",
    "#Load genomic features \n",
    "#Load rast features\n",
    "rast_df = pd.read_csv(\"data/allgenomes.RAST.txt.ps.tsv\", sep = \"\\t\", index_col=0)\n",
    "\n",
    "#Load phenotype data with gram stain data (only gram stain phenotype here) and create dataset used\n",
    "\n",
    "phenotype_gram_stain_df = pd.read_csv(\"data/gram_stain_bacdive.tsv\", sep = \"\\t\", index_col=0)\n",
    "phenotype = \"gram_stain\"\n",
    "phenotype_df = phenotype_gram_stain_df[phenotype].dropna()\n",
    "\n",
    "#Merged genotype and phenotype data and extract X and y\n",
    "\n",
    "merged_df = rast_df.merge(phenotype_df, left_index=True, right_index=True, how='inner')\n",
    "X = merged_df.drop(columns=[phenotype])\n",
    "y = merged_df[phenotype]\n",
    "\n",
    "\n",
    "# print some info\n",
    "\n",
    "print (\"Phenotype: \" + phenotype)\n",
    "print (\"Feature used: Rast\")\n",
    "\n",
    "num_genome, num_features = X.shape\n",
    "print (\"Numer of genomes:\" + str(num_genome) + \"\\n\" + \"Number of genomic features :\" + str(num_features)) \n",
    "print (\"Shape of y:\" + str(y.shape))\n",
    "\n",
    "\n",
    "\n",
    "X_train, X_test, y_train, y_test = train_test_split(X, y, test_size=0.3, stratify=y)\n",
    "\n",
    "automl = AutoML()\n",
    "automl.fit(X_train, y_train)\n",
    "\n",
    "predictions = automl.predict(X_test)"
   ]
  },
  {
   "cell_type": "code",
   "execution_count": null,
   "id": "d95d67d4-39f1-45f5-9ea5-3d53fe5383c8",
   "metadata": {},
   "outputs": [],
   "source": []
  }
 ],
 "metadata": {
  "kernelspec": {
   "display_name": "Python 3 (ipykernel)",
   "language": "python",
   "name": "python3"
  },
  "language_info": {
   "codemirror_mode": {
    "name": "ipython",
    "version": 3
   },
   "file_extension": ".py",
   "mimetype": "text/x-python",
   "name": "python",
   "nbconvert_exporter": "python",
   "pygments_lexer": "ipython3",
   "version": "3.8.8"
  }
 },
 "nbformat": 4,
 "nbformat_minor": 5
}
