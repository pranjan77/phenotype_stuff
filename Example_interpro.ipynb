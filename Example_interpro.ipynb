{
 "cells": [
  {
   "cell_type": "code",
   "execution_count": 22,
   "id": "476686ff-1440-4c87-901f-f95af57c8af9",
   "metadata": {},
   "outputs": [
    {
     "name": "stdout",
     "output_type": "stream",
     "text": [
      "SSO:000036573 (0.71)\tLPS-assembly protein LptD\n",
      "SSO:000024182 (0.10)\tRibosome maturation factor rimM\n",
      "SSO:000001301 (0.02)\tCDP-diacylglycerol--glycerol-3-phosphate 3-phosphatidyltransferase (EC 2.7.8.5)\n",
      "SSO:000012980 (0.01)\tDUF2225 domain-containing protein\n",
      "SSO:000031056 (0.01)\tmetalloenzyme domain protein\n",
      "SSO:000020884 (0.01)\tOuter membrane lipoprotein-sorting protein\n",
      "SSO:000043940 (0.01)\tdihydrolipoyllysine-residue acetyltransferase (EC 2.3.1.12)\n",
      "SSO:000002109 (0.01)\tDNA repair protein RecN\n",
      "SSO:000004554 (0.00)\tLow-specificity L-threonine aldolase (EC 4.1.2.48)\n",
      "SSO:000025018 (0.00)\tSpore coat protein CotH\n",
      "SSO:000021037 (0.00)\tPAS domain-containing protein\n",
      "SSO:000000212 (0.00)\t2-phosphosulfolactate phosphatase (EC 3.1.3.71 )\n",
      "SSO:000016804 (0.00)\tFlagellar motor protein\n",
      "SSO:000044352 (0.00)\tformate C-acetyltransferase (EC 2.3.1.54)\n",
      "SSO:000020878 (0.00)\tOuter membrane lipoprotein carrier protein LolA\n",
      "SSO:000012160 (0.00)\tChemotaxis response regulator protein-glutamate methylesterase (EC 3.1.1.61)\n",
      "SSO:000021268 (0.00)\tPatatin\n",
      "SSO:000017255 (0.00)\tGlutamate synthase\n",
      "SSO:000033511 (0.00)\tthiolase family protein\n",
      "SSO:000017940 (0.00)\tHydrogenase maturation protease\n"
     ]
    }
   ],
   "source": [
    "import json\n",
    "def find_rast_details(report_string):\n",
    "    with open (\"data/SSO_dictionary.json\") as sf:\n",
    "           sso_terms = json.load(sf)['term_hash']\n",
    "    sso_dict = dict()\n",
    "    for term in sso_terms:\n",
    "        data = sso_terms[term]\n",
    "        sso_dict[data['id']] = data['name']\n",
    "        \n",
    "    report_data = report_string.split(\",\")\n",
    "    for rast_score in report_data:\n",
    "        rast_score = rast_score.lstrip()\n",
    "        rast_id = rast_score.split(\" \")[0]\n",
    "        \n",
    "        print (rast_score + \"\\t\" + sso_dict[rast_id])\n",
    "        \n",
    "        \n",
    "report_string = \"SSO:000036573 (0.71), SSO:000024182 (0.10), SSO:000001301 (0.02), SSO:000012980 (0.01), SSO:000031056 (0.01), SSO:000020884 (0.01), SSO:000043940 (0.01), SSO:000002109 (0.01), SSO:000004554 (0.00), SSO:000025018 (0.00), SSO:000021037 (0.00), SSO:000000212 (0.00), SSO:000016804 (0.00), SSO:000044352 (0.00), SSO:000020878 (0.00), SSO:000012160 (0.00), SSO:000021268 (0.00), SSO:000017255 (0.00), SSO:000033511 (0.00), SSO:000017940 (0.00)\"\n",
    "\n",
    "\n",
    "find_rast_details(report_string)"
   ]
  },
  {
   "cell_type": "code",
   "execution_count": null,
   "id": "0ed2e85a-4c8d-4223-b685-4d6e63fab2a1",
   "metadata": {},
   "outputs": [],
   "source": []
  }
 ],
 "metadata": {
  "kernelspec": {
   "display_name": "Python 3 (ipykernel)",
   "language": "python",
   "name": "python3"
  },
  "language_info": {
   "codemirror_mode": {
    "name": "ipython",
    "version": 3
   },
   "file_extension": ".py",
   "mimetype": "text/x-python",
   "name": "python",
   "nbconvert_exporter": "python",
   "pygments_lexer": "ipython3",
   "version": "3.8.8"
  }
 },
 "nbformat": 4,
 "nbformat_minor": 5
}
